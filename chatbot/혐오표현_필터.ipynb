{
  "nbformat": 4,
  "nbformat_minor": 0,
  "metadata": {
    "colab": {
      "name": "혐오표현 필터.ipynb",
      "private_outputs": true,
      "provenance": [],
      "collapsed_sections": []
    },
    "kernelspec": {
      "name": "python3",
      "display_name": "Python 3"
    },
    "language_info": {
      "name": "python"
    },
    "accelerator": "GPU"
  },
  "cells": [
    {
      "cell_type": "code",
      "execution_count": null,
      "metadata": {
        "id": "bUtYamm0Ypuf"
      },
      "outputs": [],
      "source": [
        "#!pip install transformers\n",
        "#!pip install datasets==1.17.0\n",
        "\n",
        "from datasets import load_dataset\n",
        "from transformers import TextClassificationPipeline, BertForSequenceClassification, AutoTokenizer\n",
        "\n",
        "model_name = 'smilegate-ai/kor_unsmile'\n",
        "\n",
        "model = BertForSequenceClassification.from_pretrained(model_name)\n",
        "tokenizer = AutoTokenizer.from_pretrained(model_name)\n",
        "\n",
        "pipe = TextClassificationPipeline(\n",
        "    model=model,\n",
        "    tokenizer=tokenizer,\n",
        "    device=0,     # cpu는 -1, gpu일 땐 gpu number라고 함. 처음엔 0.\n",
        "    return_all_scores=True,\n",
        "    function_to_apply='sigmoid'\n",
        "    )"
      ]
    },
    {
      "cell_type": "code",
      "source": [
        "# for result in pipe(\"저 씨발련 뭐함?\")[0]:\n",
        "#     print(result)\n",
        "\n",
        "if pipe(\"저 씨발련 뭐함?\")[0][9]['score'] > 0.7: # 내담자의 말을 넣어주면 됩니다. 문장을 바꿔가며 실험 결과 대체로 0.7이상이면 클린합니다.\n",
        "    pass\n",
        "else:# 0.7보다 크면 클린한 문장으로 판단하고, 아니면 혐오표현이 있다고 판단하고 다시 채팅을 입력하게 하면 될 듯 합니다.\n",
        "    pass"
      ],
      "metadata": {
        "id": "bemcSEheZJoy"
      },
      "execution_count": null,
      "outputs": []
    },
    {
      "cell_type": "code",
      "source": [
        "pipe(\"남편 때문에 속상해요\")[0][9]['score']"
      ],
      "metadata": {
        "id": "pqKp1RYE00yK"
      },
      "execution_count": null,
      "outputs": []
    },
    {
      "cell_type": "code",
      "source": [
        "lst = [\"남편 때문에 속상해요\", \"저 씨발련 뭐함?\", \"한남재기\", \"애미뒤짐?\", \"취업이 안돼서 많이 힘들어요\", \"앰흑 뤼디거\", \"앰흑 뤼디거 또 지랄이네\", \"맹구 무관\"]\n",
        "\n",
        "for sen in lst:\n",
        "    if pipe(sen)[0][9]['score'] > 0.7:\n",
        "        print(\"가능\")\n",
        "    else:\n",
        "        print(\"부적절한 표현이 감지되었습니다. 다시 입력해주세요.\")"
      ],
      "metadata": {
        "id": "Km_FrGnM03XR"
      },
      "execution_count": null,
      "outputs": []
    },
    {
      "cell_type": "code",
      "source": [
        "pipe(\"맹구 무관\")[0][9]['score']"
      ],
      "metadata": {
        "id": "yPaw_4Lm3cjW"
      },
      "execution_count": null,
      "outputs": []
    },
    {
      "cell_type": "code",
      "source": [
        "pipe(\"애1미 뒤3짐?\")[0][9]['score']"
      ],
      "metadata": {
        "id": "755Pq_6f5DxS"
      },
      "execution_count": null,
      "outputs": []
    },
    {
      "cell_type": "code",
      "source": [
        ""
      ],
      "metadata": {
        "id": "0avr583_5K1H"
      },
      "execution_count": null,
      "outputs": []
    }
  ]
}