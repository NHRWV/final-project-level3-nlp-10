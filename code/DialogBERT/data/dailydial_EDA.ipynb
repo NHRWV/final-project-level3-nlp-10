{
 "cells": [
  {
   "cell_type": "code",
   "execution_count": 3,
   "id": "b5385631-7538-49e4-b9d4-402ac72e33b1",
   "metadata": {},
   "outputs": [
    {
     "name": "stdout",
     "output_type": "stream",
     "text": [
      "Collecting h5py\n",
      "  Downloading h5py-3.6.0-cp38-cp38-manylinux_2_12_x86_64.manylinux2010_x86_64.whl (4.5 MB)\n",
      "     |████████████████████████████████| 4.5 MB 19.6 MB/s            \n",
      "\u001b[?25hRequirement already satisfied: numpy>=1.14.5 in /opt/conda/lib/python3.8/site-packages (from h5py) (1.19.2)\n",
      "Installing collected packages: h5py\n",
      "Successfully installed h5py-3.6.0\n",
      "\u001b[33mWARNING: Running pip as the 'root' user can result in broken permissions and conflicting behaviour with the system package manager. It is recommended to use a virtual environment instead: https://pip.pypa.io/warnings/venv\u001b[0m\n",
      "\u001b[33mWARNING: You are using pip version 21.3.1; however, version 22.1 is available.\n",
      "You should consider upgrading via the '/opt/conda/bin/python -m pip install --upgrade pip' command.\u001b[0m\n"
     ]
    }
   ],
   "source": [
    "!pip install h5py"
   ]
  },
  {
   "cell_type": "code",
   "execution_count": 57,
   "id": "dba92dd5-2973-48be-a9df-9890ccb78913",
   "metadata": {},
   "outputs": [],
   "source": [
    "import h5py"
   ]
  },
  {
   "cell_type": "code",
   "execution_count": 58,
   "id": "a462161f-0f19-4847-bae5-880cf8663c9d",
   "metadata": {},
   "outputs": [],
   "source": [
    "import tables"
   ]
  },
  {
   "cell_type": "code",
   "execution_count": 59,
   "id": "c751bc95-a5b1-4f60-bae0-70c5751ee411",
   "metadata": {},
   "outputs": [
    {
     "name": "stdout",
     "output_type": "stream",
     "text": [
      "<HDF5 file \"valid.h5\" (mode r)>\n"
     ]
    }
   ],
   "source": [
    "f = h5py.File('./dailydial/valid.h5','r')\n",
    "print(f)\n",
    "# f.close()"
   ]
  },
  {
   "cell_type": "code",
   "execution_count": 38,
   "id": "30d6d8e6-b51b-4e63-a212-555a0bbb97d1",
   "metadata": {},
   "outputs": [
    {
     "name": "stdout",
     "output_type": "stream",
     "text": [
      "<KeysViewHDF5 ['indices', 'sentences']>\n"
     ]
    }
   ],
   "source": [
    "print(f.keys())"
   ]
  },
  {
   "cell_type": "code",
   "execution_count": 39,
   "id": "24729377-56f8-43d2-8cb3-f32f3cfd7f35",
   "metadata": {},
   "outputs": [
    {
     "data": {
      "text/plain": [
       "(<HDF5 dataset \"indices\": shape (7069,), type \"|V12\">,\n",
       " <HDF5 dataset \"sentences\": shape (148206,), type \"<i2\">)"
      ]
     },
     "execution_count": 39,
     "metadata": {},
     "output_type": "execute_result"
    }
   ],
   "source": [
    "di = f['indices']\n",
    "ds = f['sentences']\n",
    "di,ds"
   ]
  },
  {
   "cell_type": "code",
   "execution_count": 40,
   "id": "eb67fb01-9a77-4319-8499-a606b7dfed59",
   "metadata": {},
   "outputs": [
    {
     "data": {
      "text/plain": [
       "array([(15,  15, 13), (28,  28, 19), (47,  47, 16), (63,  63,  5),\n",
       "       (68,  68, 11), (79,  79, 16), (26, 121, 11), (37, 132, 31),\n",
       "       (68, 163, 18), (86, 181, 23)],\n",
       "      dtype=[('ctx_len', '<i4'), ('pos_utt', '<i4'), ('res_len', '<i4')])"
      ]
     },
     "execution_count": 40,
     "metadata": {},
     "output_type": "execute_result"
    }
   ],
   "source": [
    "di[:10]"
   ]
  },
  {
   "cell_type": "code",
   "execution_count": 85,
   "id": "0837bf2d-da57-4281-a825-6cad4b9d01cf",
   "metadata": {},
   "outputs": [],
   "source": [
    "table = tables.open_file('./dailydial/test.h5')\n",
    "# table = tables.open_file('./multiwoz/valid.h5')"
   ]
  },
  {
   "cell_type": "code",
   "execution_count": 86,
   "id": "06854048-90d9-442c-9ade-b94872ea0d6c",
   "metadata": {},
   "outputs": [],
   "source": [
    "from transformers import BertTokenizer\n",
    "tokenizer = BertTokenizer.from_pretrained('bert-base-uncased')"
   ]
  },
  {
   "cell_type": "code",
   "execution_count": 90,
   "id": "67af519b-adf3-4c5d-844c-f443ad1b7c2a",
   "metadata": {},
   "outputs": [
    {
     "data": {
      "text/plain": [
       "\"[UNK] [CLS] hey man, you wanna buy some weed? [SEP] [UNK] [CLS] some what? [SEP] [UNK] [CLS] weed! you know? pot, ganja, mary jane some chronic! [SEP] [UNK] [CLS] oh, umm, no thanks. [SEP] [UNK] [CLS] i also have blow if you prefer to do a few lines. [SEP] [UNK] [CLS] no, i am ok, really. [SEP] [UNK] [CLS] come on man! i even got dope and acid! try some! [SEP] [UNK] [CLS] do you really have all of these drugs? where do you get them from? [SEP] [UNK] [CLS] i got my connections! just tell me what you want and i ’ ll even give you one ounce for free. [SEP] [UNK] [CLS] sounds good! let ’ s see, i want. [SEP] [UNK] [CLS] yeah? [SEP] [UNK] [CLS] i want you to put your hands behind your head! you are under arrest! _ _ eou _ _ [SEP] [UNK] [CLS] the taxi drivers are on strike again. [SEP] [UNK] [CLS] what for? [SEP] [UNK] [CLS] they want the government to reduce the price of the gasoline. [SEP] [UNK] [CLS] it is really a hot potato. _ _ eou _ _ [SEP] [UNK] [CLS] we've managed to reduce our energy consumption in our factory by about 15 per cent in the last two years. [SEP] [UNK] [CLS] that's excellent. how have you managed that? [SEP] [UNK] [CLS] mainly because we've invested in a heat recovery system. [SEP] [UNK] [CLS] what does that mean exactly? [SEP] [UNK] [CLS] well, we use the exhaust gases from our printing presses to provide energy to heat our dryers. [SEP] [UNK] [CLS] what other sources of energy do you use? [SEP] [UNK] [CLS] we don't use any fossil fuels. most of our power comes from hydro - electric plants. we're hoping to use even more energy from alternative sources in the future - perhaps even wind power. _ _ eou _ _ [SEP] [UNK] [CLS] believe it or not, tea is the most popular beverage in the world after water. [SEP] [UNK] [CLS] well, people from asia to europe all enjoy tea. [SEP] [UNK] [CLS] right. and china is the homeland of tea. [SEP] [UNK] [CLS] yes, chinese people love drinking tea so much. some even claim they can't live without tea. [SEP] [UNK] [CLS] do you know there are several catagories of chinese tea? [SEP] [UNK] [CLS] yes, i believe there are green teas, black teas and scented teas. any others? [SEP] [UNK] [CLS] well, have you ever heard of oulong tea\""
      ]
     },
     "execution_count": 90,
     "metadata": {},
     "output_type": "execute_result"
    }
   ],
   "source": [
    "contexts = table.get_node('/sentences')[:500].astype(np.long)\n",
    "tokenizer.decode(contexts)"
   ]
  },
  {
   "cell_type": "code",
   "execution_count": 88,
   "id": "06680270-cb95-4a7c-9c4c-c6788e73974b",
   "metadata": {},
   "outputs": [
    {
     "data": {
      "text/plain": [
       "144744"
      ]
     },
     "execution_count": 88,
     "metadata": {},
     "output_type": "execute_result"
    }
   ],
   "source": [
    "len(contexts)"
   ]
  },
  {
   "cell_type": "code",
   "execution_count": 51,
   "id": "e751abb5-5991-4574-860a-c32931f969c2",
   "metadata": {},
   "outputs": [
    {
     "data": {
      "text/plain": [
       "array([  -1,  101, 1045, 1005, 1049, 2559, 2005, 1037, 2267, 1999, 2237,\n",
       "       1012,  102,   -2,  101, 2003, 2045, 1037, 3327, 2181, 2017, 1005,\n",
       "       2128, 2559, 2005, 1037, 2267, 1999, 1029, 4828, 1005, 1055, 2267,\n",
       "       2003, 1999, 1996, 2803, 2181, 1010, 2009, 2003, 2284, 2006, 3002,\n",
       "       4080, 1005, 1055, 2395, 1012,  102], dtype=int16)"
      ]
     },
     "execution_count": 51,
     "metadata": {},
     "output_type": "execute_result"
    }
   ],
   "source": [
    "table.get_node('/sentences')[:50]"
   ]
  },
  {
   "cell_type": "code",
   "execution_count": 52,
   "id": "9354e67e-7f94-4cd4-80ee-bc355c2dc5cc",
   "metadata": {},
   "outputs": [],
   "source": [
    "contexts = table.get_node('/sentences')[:].astype(np.long)"
   ]
  },
  {
   "cell_type": "code",
   "execution_count": 53,
   "id": "2f6a43c4-ebec-47f4-b48f-1fcce8307686",
   "metadata": {},
   "outputs": [
    {
     "data": {
      "text/plain": [
       "array([  -1,  101, 1045, ..., 4729,  999,  102])"
      ]
     },
     "execution_count": 53,
     "metadata": {},
     "output_type": "execute_result"
    }
   ],
   "source": [
    "contexts"
   ]
  },
  {
   "cell_type": "code",
   "execution_count": 54,
   "id": "9a3040eb-6d98-4bd7-9c97-88c7736b9505",
   "metadata": {},
   "outputs": [
    {
     "data": {
      "text/plain": [
       "array([( 13,     13, 37), ( 50,     50, 12), ( 62,     62, 30), ...,\n",
       "       (124, 284267, 34), (158, 284301, 12), (170, 284313, 10)],\n",
       "      dtype=[('ctx_len', '<i4'), ('pos_utt', '<i4'), ('res_len', '<i4')])"
      ]
     },
     "execution_count": 54,
     "metadata": {},
     "output_type": "execute_result"
    }
   ],
   "source": [
    "index = table.get_node('/indices')[:]\n",
    "index"
   ]
  }
 ],
 "metadata": {
  "kernelspec": {
   "display_name": "Python 3 (ipykernel)",
   "language": "python",
   "name": "python3"
  },
  "language_info": {
   "codemirror_mode": {
    "name": "ipython",
    "version": 3
   },
   "file_extension": ".py",
   "mimetype": "text/x-python",
   "name": "python",
   "nbconvert_exporter": "python",
   "pygments_lexer": "ipython3",
   "version": "3.8.5"
  }
 },
 "nbformat": 4,
 "nbformat_minor": 5
}
