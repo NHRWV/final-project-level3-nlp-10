{
 "cells": [
  {
   "cell_type": "code",
   "execution_count": 35,
   "id": "921be700-1792-4292-9405-a6a091bfb386",
   "metadata": {},
   "outputs": [],
   "source": [
    "import json\n",
    "import numpy as np"
   ]
  },
  {
   "cell_type": "code",
   "execution_count": 86,
   "id": "b78e6618-f81b-457b-bc43-08544678a0df",
   "metadata": {},
   "outputs": [
    {
     "name": "stdout",
     "output_type": "stream",
     "text": [
      "Filesystem      Size  Used Avail Use% Mounted on\n",
      "overlay          99G   60G   35G  64% /\n",
      "tmpfs            64M     0   64M   0% /dev\n",
      "tmpfs            45G     0   45G   0% /sys/fs/cgroup\n",
      "shm             4.0G  8.0K  4.0G   1% /dev/shm\n",
      "/dev/xvdb1       99G   60G   35G  64% /etc/hosts\n",
      "tmpfs            45G   12K   45G   1% /proc/driver/nvidia\n",
      "/dev/xvda1       48G  8.1G   37G  19% /usr/bin/nvidia-smi\n",
      "udev             45G     0   45G   0% /dev/nvidia0\n",
      "tmpfs            45G     0   45G   0% /proc/acpi\n",
      "tmpfs            45G     0   45G   0% /proc/scsi\n",
      "tmpfs            45G     0   45G   0% /sys/firmware\n"
     ]
    }
   ],
   "source": [
    "!df -h"
   ]
  },
  {
   "cell_type": "code",
   "execution_count": null,
   "id": "ed95a08d-bb31-4c4f-aa88-e039e90cdd3b",
   "metadata": {},
   "outputs": [],
   "source": []
  },
  {
   "cell_type": "code",
   "execution_count": 26,
   "id": "f69be62c-cdd2-46d0-9dd0-8bab5b13a521",
   "metadata": {},
   "outputs": [],
   "source": [
    "from transformers import BertTokenizer\n",
    "tokenizer = BertTokenizer.from_pretrained('klue/roberta-large')"
   ]
  },
  {
   "cell_type": "code",
   "execution_count": 27,
   "id": "c614d884-a0fb-42ea-87cb-189ae7104eac",
   "metadata": {},
   "outputs": [],
   "source": [
    "json_file_path = \"./감성대화말뭉치(최종데이터)_Training.json\"\n",
    "\n",
    "with open(json_file_path, 'r') as j:\n",
    "    contents = json.loads(j.read())\n",
    "    contents"
   ]
  },
  {
   "cell_type": "code",
   "execution_count": 57,
   "id": "28329322-0636-4efb-8c33-f4e5b93c642d",
   "metadata": {},
   "outputs": [
    {
     "data": {
      "text/plain": [
       "{'profile': {'persona-id': 'Pro_03719',\n",
       "  'persona': {'persona-id': 'A02_G01_C01',\n",
       "   'human': ['A02', 'G01'],\n",
       "   'computer': ['C01']},\n",
       "  'emotion': {'emotion-id': 'S05_D02_E68',\n",
       "   'type': 'E68',\n",
       "   'situation': ['S05', 'D02']}},\n",
       " 'talk': {'id': {'profile-id': 'Pro_03719', 'talk-id': 'Pro_03719_00016'},\n",
       "  'content': {'HS01': '아내가 드디어 출산하게 되어서 정말 신이 나.',\n",
       "   'SS01': '아내분이 출산을 하시는군요. 정말 축하드려요.',\n",
       "   'HS02': '아 지금 정말 신이 나.',\n",
       "   'SS02': '잘 된 일이네요.',\n",
       "   'HS03': '아기가 점점 클게 벌써 기대가 되네. 내가 많이 놀아줘야지. ',\n",
       "   'SS03': '좋은 아빠가 되실 거 같아요. 진심으로 축하드려요.'}}}"
      ]
     },
     "execution_count": 57,
     "metadata": {},
     "output_type": "execute_result"
    }
   ],
   "source": [
    "contents[0]"
   ]
  },
  {
   "cell_type": "code",
   "execution_count": 28,
   "id": "006dcb83-a442-41f7-8f52-85ca51bddb03",
   "metadata": {},
   "outputs": [],
   "source": [
    "content_lst = list(map(lambda x: list(x['talk']['content'].values()), contents))"
   ]
  },
  {
   "cell_type": "code",
   "execution_count": 33,
   "id": "6094b0da-cf8b-427e-b41e-fbb7e6779908",
   "metadata": {},
   "outputs": [
    {
     "data": {
      "text/plain": [
       "[0,\n",
       " 4582,\n",
       " 2116,\n",
       " 7310,\n",
       " 6831,\n",
       " 2205,\n",
       " 2318,\n",
       " 859,\n",
       " 2051,\n",
       " 2112,\n",
       " 3944,\n",
       " 1327,\n",
       " 2052,\n",
       " 717,\n",
       " 18,\n",
       " 2]"
      ]
     },
     "execution_count": 33,
     "metadata": {},
     "output_type": "execute_result"
    }
   ],
   "source": [
    "tokenizer.encode(content_lst[0][0])"
   ]
  },
  {
   "cell_type": "code",
   "execution_count": 36,
   "id": "f87d9ecd-2d93-41a2-9c1b-65cff7ed2884",
   "metadata": {},
   "outputs": [],
   "source": [
    "dialogs = []\n",
    "for dial in content_lst:\n",
    "    utts = []\n",
    "    for i, utt in enumerate(dial):\n",
    "        caller = 'A' if i % 2 == 0 else 'B'\n",
    "        utts.append((caller, utt, np.zeros((1,1))))\n",
    "    dialog = {'knowledge': '', 'utts': utts}\n",
    "    dialogs.append(dialog)\n",
    "    "
   ]
  },
  {
   "cell_type": "code",
   "execution_count": 40,
   "id": "82265283-c789-4754-a9d5-c856c2db77f4",
   "metadata": {},
   "outputs": [
    {
     "data": {
      "text/plain": [
       "[{'knowledge': '',\n",
       "  'utts': [('A', '아내가 드디어 출산하게 되어서 정말 신이 나.', array([[0.]])),\n",
       "   ('B', '아내분이 출산을 하시는군요. 정말 축하드려요.', array([[0.]])),\n",
       "   ('A', '아 지금 정말 신이 나.', array([[0.]])),\n",
       "   ('B', '잘 된 일이네요.', array([[0.]])),\n",
       "   ('A', '아기가 점점 클게 벌써 기대가 되네. 내가 많이 놀아줘야지. ', array([[0.]])),\n",
       "   ('B', '좋은 아빠가 되실 거 같아요. 진심으로 축하드려요.', array([[0.]]))]},\n",
       " {'knowledge': '',\n",
       "  'utts': [('A', '당뇨랑 합병증 때문에 먹어야 할 약이 열 가지가 넘어가니까 스트레스야.', array([[0.]])),\n",
       "   ('B', '약 종류가 많아 번거로우시겠어요.', array([[0.]])),\n",
       "   ('A', '건강할 때 관리 좀 잘할걸 하는 생각이 들더라고.', array([[0.]])),\n",
       "   ('B', '현재 상황에서 변화를 주기 위해 어떻게 하면 될까요?', array([[0.]])),\n",
       "   ('A', '약을 잘 챙겨 먹고 나을 수 있도록 노력해야지.', array([[0.]])),\n",
       "   ('B', '약을 잘 챙겨 먹어 건강해지시길 바랄게요.', array([[0.]]))]}]"
      ]
     },
     "execution_count": 40,
     "metadata": {},
     "output_type": "execute_result"
    }
   ],
   "source": [
    "dialogs[:2]"
   ]
  },
  {
   "cell_type": "code",
   "execution_count": 39,
   "id": "8965db6c-64c2-4eb2-a9a5-ff5a990821a8",
   "metadata": {},
   "outputs": [
    {
     "data": {
      "text/plain": [
       "[['아내가 드디어 출산하게 되어서 정말 신이 나.',\n",
       "  '아내분이 출산을 하시는군요. 정말 축하드려요.',\n",
       "  '아 지금 정말 신이 나.',\n",
       "  '잘 된 일이네요.',\n",
       "  '아기가 점점 클게 벌써 기대가 되네. 내가 많이 놀아줘야지. ',\n",
       "  '좋은 아빠가 되실 거 같아요. 진심으로 축하드려요.'],\n",
       " ['당뇨랑 합병증 때문에 먹어야 할 약이 열 가지가 넘어가니까 스트레스야.',\n",
       "  '약 종류가 많아 번거로우시겠어요.',\n",
       "  '건강할 때 관리 좀 잘할걸 하는 생각이 들더라고.',\n",
       "  '현재 상황에서 변화를 주기 위해 어떻게 하면 될까요?',\n",
       "  '약을 잘 챙겨 먹고 나을 수 있도록 노력해야지.',\n",
       "  '약을 잘 챙겨 먹어 건강해지시길 바랄게요.']]"
      ]
     },
     "execution_count": 39,
     "metadata": {},
     "output_type": "execute_result"
    }
   ],
   "source": [
    "content_lst[:2]"
   ]
  },
  {
   "cell_type": "code",
   "execution_count": null,
   "id": "a2e37080-65e1-4290-a1bf-0a8b7609951c",
   "metadata": {},
   "outputs": [],
   "source": []
  }
 ],
 "metadata": {
  "kernelspec": {
   "display_name": "Python 3 (ipykernel)",
   "language": "python",
   "name": "python3"
  },
  "language_info": {
   "codemirror_mode": {
    "name": "ipython",
    "version": 3
   },
   "file_extension": ".py",
   "mimetype": "text/x-python",
   "name": "python",
   "nbconvert_exporter": "python",
   "pygments_lexer": "ipython3",
   "version": "3.8.5"
  }
 },
 "nbformat": 4,
 "nbformat_minor": 5
}
